{
 "cells": [
  {
   "cell_type": "code",
   "execution_count": 3,
   "metadata": {},
   "outputs": [],
   "source": [
    "import torch\n",
    "from torch import nn, optim, autograd as grad\n",
    "from torch.utils.data import DataLoader, random_split\n",
    "import torchvision\n",
    "from torchvision import transforms, datasets \n",
    "import time\n",
    "import random\n",
    "import matplotlib.pyplot as plt # Use to map the sum squared gradient or the loss"
   ]
  },
  {
   "cell_type": "markdown",
   "metadata": {},
   "source": [
    "This code classifies 10 different classes of images"
   ]
  },
  {
   "cell_type": "code",
   "execution_count": 4,
   "metadata": {},
   "outputs": [],
   "source": [
    "class CNN(nn.Module):\n",
    "    def __init__(self):\n",
    "        super(CNN, self).__init__()\n",
    "        self.convL1 = nn.Conv2d(in_channels=3,out_channels=128, \n",
    "                                kernel_size=(3,3), stride= (1,1),padding=2)\n",
    "        nn.init.kaiming_normal(self.convL1.weight)\n",
    "        self.convL2 = nn.Conv2d(in_channels=128,out_channels=64, \n",
    "                                kernel_size=(3,3), stride= (1,1),padding=2)\n",
    "        nn.init.kaiming_normal(self.convL2.weight)\n",
    "        self.convL3 = nn.Conv2d(in_channels=64,out_channels=32, \n",
    "                                kernel_size=(2,2), stride= (1,1),padding=1)\n",
    "        nn.init.kaiming_normal(self.convL1.weight)\n",
    "\n",
    "        self.linL4 = nn.Linear(1568, 1000, bias=True)\n",
    "        self.linL5 = nn.Linear(1000, 10, bias=True)\n",
    "        nn.init.xavier_uniform_(self.linL4.weight)\n",
    "        nn.init.xavier_uniform_(self.linL5.weight)\n",
    "\n",
    "        self.pool3 = nn.MaxPool2d((3,3), (3,3))\n",
    "        self.pool2 = nn.MaxPool2d((2,2), (2,2))\n",
    "\n",
    "\n",
    "        self.relu = nn.ReLU()  \n",
    "        self.Batch_norm = nn.BatchNorm1d(num_features=32)\n",
    "        self.Lrelu = nn.LeakyReLU()\n",
    "        self.softplus = nn.Softplus()\n",
    "        self.Softmax = nn.Softmax()\n",
    "\n",
    "    def forward(self, x):\n",
    "        x=self.Batch_norm(x)\n",
    "        x=self.relu(self.convL1(x))\n",
    "        x=self.pool3(x)\n",
    "        x=self.relu(self.convL2(x))\n",
    "        x=self.pool2(x)\n",
    "        x=self.relu(self.convL3(x))\n",
    "\n",
    "        x=torch.flatten(x)\n",
    "        x=self.relu(self.linL4(x))\n",
    "        x=self.Softmax(self.linL5(x))\n",
    "        return x\n",
    "\n",
    "    def __len__(self):\n",
    "        return len(self.data)\n",
    "\n",
    "    def __getitem__(self, idx):\n",
    "        image, label = self.data[idx]\n",
    "        if self.transform:\n",
    "            image = self.transform(image)\n",
    "        return image, label"
   ]
  },
  {
   "cell_type": "markdown",
   "metadata": {},
   "source": [
    "Additional Functions"
   ]
  },
  {
   "cell_type": "code",
   "execution_count": 5,
   "metadata": {},
   "outputs": [],
   "source": [
    "def ret_shape(training_set)->str:\n",
    "    ret_string = \"\"\n",
    "    for idx, data in enumerate(training_set):\n",
    "            datas = data[0]\n",
    "            labels = data[1]\n",
    "            ret_string+=\"{}\\n\".format(datas.shape)\n",
    "            ret_string+=\"Labels:{}\\n\".format(labels)\n",
    "            ret_string+=\"Labels shape:{}\\n\".format(len(labels))\n",
    "            ret_string+=\"Labels[0] shape:{}\\n\".format(labels[0].shape)\n",
    "            break\n",
    "    return ret_string\n",
    "\n",
    "\n",
    "def max_index(max_tnsr):\n",
    "    max_tnsr = max_tnsr.tolist()\n",
    "    max_num = 0\n",
    "    for num in max_tnsr:\n",
    "        if max_num < num:\n",
    "            max_num = num\n",
    "    return max_tnsr.index(max_num)\n"
   ]
  },
  {
   "cell_type": "markdown",
   "metadata": {},
   "source": [
    "Train Cell:"
   ]
  },
  {
   "cell_type": "code",
   "execution_count": 6,
   "metadata": {},
   "outputs": [],
   "source": [
    "FILE_PATH = \"model.pth\"\n",
    "map_lst = []\n",
    "\n",
    "def train_net(cnn, train_ds, dev):\n",
    "    iter = 0\n",
    "\n",
    "    # Selecting the optimization algorithm:\n",
    "    optimizer = optim.SGD(params=cnn.parameters(), lr=8e-4,\n",
    "                          momentum=0.2,\n",
    "                          weight_decay=1e-4)\n",
    "    #optimizer = optim.Adam(params=cnn.parameters(), weight_decay=0.1\n",
    "    #                      , betas=[0.99, 0.999])\n",
    "\n",
    "    # Training loop part\n",
    "    for sample in train_ds:\n",
    "        \n",
    "        targetY = torch.nn.functional.one_hot(torch.tensor(sample[1]), num_classes=10) # Transforming to a binary vector\n",
    "        targetY = torch.squeeze(\n",
    "                    torch.tensor(targetY, dtype=torch.float32, requires_grad=True)\n",
    "                ).to(dev)\n",
    "              \n",
    "        cnn = cnn.to(dev) # Added due to errors \n",
    "        pred = cnn.forward(torch.squeeze(sample[0]).to(dev))\n",
    "        loss_func = nn.CrossEntropyLoss()\n",
    "        # ---BackPropagation---\n",
    "        loss = loss_func(pred, targetY)\n",
    "        loss.backward()\n",
    "        optimizer.step()\n",
    "\n",
    "        if iter%100==0:\n",
    "            torch.save(cnn.cpu(), FILE_PATH)\n",
    "            grad_tmp = cnn.linL5.weight.grad\n",
    "            print(iter,\" | \",grad_tmp.sum()/len(grad_tmp))\n",
    "            map_lst.append([iter, grad_tmp.sum()/len(grad_tmp)])\n",
    "\n",
    "        optimizer.zero_grad()\n",
    "        iter+=1\n"
   ]
  },
  {
   "cell_type": "code",
   "execution_count": null,
   "metadata": {},
   "outputs": [],
   "source": [
    "if __name__ == '__main__':\n",
    "\n",
    "    # Accessing processing unit\n",
    "    if torch.cuda.is_available() : device = \"cuda:0\"\n",
    "    else : device = \"cpu\"\n",
    "    device = torch.device(device)                                                                                                                                                                                                                                                                                                                                                                                                                                                                                                                                                                                                                            \n",
    "    net = CNN().to(device)\n",
    "\n",
    "    # Loading the dataset\n",
    "    train_data = torchvision.datasets.CIFAR10(\n",
    "        root= \"C:/Users/orian/OneDrive/שולחן העבודה/My Coding Files\"\n",
    "        ,train=True, transform=transforms.Compose([transforms.ToTensor()])\n",
    "        #, target_transform=transforms.Compose([transforms.ToTensor()])\n",
    "    )\n",
    "    \n",
    "    valtest_dis = 0.5 # Determines the distribution between the validation and the test set\n",
    "    valtest_ds= torchvision.datasets.CIFAR10(\n",
    "        root= \"C:/Users/orian/OneDrive/שולחן העבודה/My Coding Files\"\n",
    "        ,train=False, transform=transforms.Compose([transforms.ToTensor()]), \n",
    "    )\n",
    "    val_data, test_data = random_split(\n",
    "        valtest_ds, [int(len(valtest_ds)*valtest_dis),int(len(valtest_ds)*(1-valtest_dis))]\n",
    "    )\n",
    "\n",
    "    train_data = DataLoader(train_data, shuffle=True)\n",
    "    train_net(net, train_data, dev=device)\n"
   ]
  },
  {
   "cell_type": "markdown",
   "metadata": {},
   "source": [
    "Test Cell:"
   ]
  },
  {
   "cell_type": "code",
   "execution_count": 10,
   "metadata": {},
   "outputs": [
    {
     "name": "stdout",
     "output_type": "stream",
     "text": [
      "model's accuracy: 11.37 %\n",
      "[91, 704, 0, 876, 167, 78, 819, 0, 1928, 337]\n"
     ]
    },
    {
     "data": {
      "image/png": "[encoded data removed]",
      "text/plain": [
       "<Figure size 640x480 with 1 Axes>"
      ]
     },
     "metadata": {},
     "output_type": "display_data"
    }
   ],
   "source": [
    "FILE = \"model.pth\"\n",
    "model = torch.load(FILE)\n",
    "model.eval()\n",
    "\n",
    "\n",
    "image_lst = [0]*10\n",
    "right_pred = 0\n",
    "for i in range(len(test_data)):\n",
    "    if max_index(model.forward(test_data[i][0]))==test_data[i][1]:\n",
    "        right_pred+=1\n",
    "    image_lst[max_index(model.forward(test_data[i][0]))]+=1\n",
    "print(\"model's accuracy:\",right_pred/100,\"%\")\n",
    "print(image_lst)\n",
    "plt.plot(map_lst)\n",
    "plt.show()"
   ]
  }
 ],
 "metadata": {
  "kernelspec": {
   "display_name": "Python 3",
   "language": "python",
   "name": "python3"
  },
  "language_info": {
   "codemirror_mode": {
    "name": "ipython",
    "version": 3
   },
   "file_extension": ".py",
   "mimetype": "text/x-python",
   "name": "python",
   "nbconvert_exporter": "python",
   "pygments_lexer": "ipython3",
   "version": "3.11.8"
  }
 },
 "nbformat": 4,
 "nbformat_minor": 2
}
