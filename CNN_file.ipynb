{
 "cells": [
  {
   "cell_type": "code",
   "execution_count": 5,
   "metadata": {},
   "outputs": [],
   "source": [
    "import torch\n",
    "from torch import nn\n",
    "from torch import optim\n",
    "from torch import autograd as grad\n",
    "import torchvision\n",
    "from torchvision.transforms import ToTensor\n"
   ]
  },
  {
   "cell_type": "markdown",
   "metadata": {},
   "source": [
    "This code classifies cute dogs and not so cute cats"
   ]
  },
  {
   "cell_type": "code",
   "execution_count": 6,
   "metadata": {},
   "outputs": [],
   "source": [
    "class CNN(nn.Module):\n",
    "    def __init__(self):\n",
    "        super(CNN, self).__init__()\n",
    "        self.convL1 = nn.Conv2d(in_channels=3,out_channels=64, kernel_size=(4,4), stride= (4,4))\n",
    "        self.relu = nn.ReLU()\n",
    "        self.poolL1 = nn.MaxPool2d((4,4), (4,4))\n",
    "        #L3's input features size depends on the image size\n",
    "        self.L3 = nn.Linear(65536, 2)\n",
    "\n",
    "    def forward(self, x):\n",
    "        x=self.convL1(x)\n",
    "        print(x.shape)\n",
    "        x=self.relu(x)\n",
    "        x=self.poolL1(x)\n",
    "        x=torch.flatten(x)\n",
    "        x=self.L3(x)\n",
    "        print(x.shape)\n",
    "        return x"
   ]
  },
  {
   "cell_type": "markdown",
   "metadata": {},
   "source": [
    "Train function section"
   ]
  },
  {
   "cell_type": "code",
   "execution_count": 7,
   "metadata": {},
   "outputs": [],
   "source": [
    "def train_net(cnn, input):\n",
    "    output = cnn.forward(input)  # Call forward on the instance\n",
    "    print(output.shape)\n"
   ]
  },
  {
   "cell_type": "code",
   "execution_count": 8,
   "metadata": {},
   "outputs": [
    {
     "name": "stdout",
     "output_type": "stream",
     "text": [
      "torch.Size([64, 128, 128])\n",
      "torch.Size([2])\n",
      "torch.Size([2])\n"
     ]
    }
   ],
   "source": [
    "if __name__ == '__main__':\n",
    "    if torch.cuda.is_available() : dev = \"cuda:0\"\n",
    "    else : dev = \"cpu\"\n",
    "    dev = torch.device(dev)\n",
    "    net=CNN().to(dev)\n",
    "    \n",
    "    fakeIn = torch.rand(3, 512, 512).to(dev)\n",
    "    train_net(net, fakeIn)"
   ]
  }
 ],
 "metadata": {
  "kernelspec": {
   "display_name": "Python 3",
   "language": "python",
   "name": "python3"
  },
  "language_info": {
   "codemirror_mode": {
    "name": "ipython",
    "version": 3
   },
   "file_extension": ".py",
   "mimetype": "text/x-python",
   "name": "python",
   "nbconvert_exporter": "python",
   "pygments_lexer": "ipython3",
   "version": "3.11.8"
  }
 },
 "nbformat": 4,
 "nbformat_minor": 2
}
